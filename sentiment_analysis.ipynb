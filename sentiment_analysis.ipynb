{
  "nbformat": 4,
  "nbformat_minor": 0,
  "metadata": {
    "colab": {
      "provenance": []
    },
    "kernelspec": {
      "name": "python3",
      "display_name": "Python 3"
    },
    "language_info": {
      "name": "python"
    }
  },
  "cells": [
    {
      "cell_type": "markdown",
      "source": [
        "# Data Exploration:"
      ],
      "metadata": {
        "id": "SeVn5hTbxpbP"
      }
    },
    {
      "cell_type": "code",
      "execution_count": null,
      "metadata": {
        "colab": {
          "base_uri": "https://localhost:8080/"
        },
        "id": "2nIzpGH1vmU-",
        "outputId": "14a83ce3-ab08-4ccc-ab29-cb408482ed03"
      },
      "outputs": [
        {
          "output_type": "stream",
          "name": "stderr",
          "text": [
            "[nltk_data] Downloading package punkt to /root/nltk_data...\n",
            "[nltk_data]   Package punkt is already up-to-date!\n",
            "[nltk_data] Downloading package stopwords to /root/nltk_data...\n",
            "[nltk_data]   Package stopwords is already up-to-date!\n",
            "[nltk_data] Downloading package wordnet to /root/nltk_data...\n",
            "[nltk_data]   Package wordnet is already up-to-date!\n"
          ]
        },
        {
          "output_type": "stream",
          "name": "stdout",
          "text": [
            "Dataset size: (3534, 9)\n",
            "Column names: Index(['textID', 'text', 'sentiment', 'Time of Tweet', 'Age of User',\n",
            "       'Country', 'Population -2020', 'Land Area (Km²)', 'Density (P/Km²)'],\n",
            "      dtype='object')\n",
            "Sample data:\n",
            "       textID                                               text sentiment  \\\n",
            "0  f87dea47db  Last session of the day  http://twitpic.com/67ezh   neutral   \n",
            "1  96d74cb729   Shanghai is also really exciting (precisely -...  positive   \n",
            "2  eee518ae67  Recession hit Veronique Branquinho, she has to...  negative   \n",
            "3  01082688c6                                        happy bday!  positive   \n",
            "4  33987a8ee5             http://twitpic.com/4w75p - I like it!!  positive   \n",
            "\n",
            "  Time of Tweet Age of User      Country  Population -2020  Land Area (Km²)  \\\n",
            "0       morning        0-20  Afghanistan        38928346.0         652860.0   \n",
            "1          noon       21-30      Albania         2877797.0          27400.0   \n",
            "2         night       31-45      Algeria        43851044.0        2381740.0   \n",
            "3       morning       46-60      Andorra           77265.0            470.0   \n",
            "4          noon       60-70       Angola        32866272.0        1246700.0   \n",
            "\n",
            "   Density (P/Km²)  \n",
            "0             60.0  \n",
            "1            105.0  \n",
            "2             18.0  \n",
            "3            164.0  \n",
            "4             26.0  \n",
            "\n",
            "Preprocessed data:\n",
            "                                                text  \\\n",
            "0  Last session of the day  http://twitpic.com/67ezh   \n",
            "1   Shanghai is also really exciting (precisely -...   \n",
            "2  Recession hit Veronique Branquinho, she has to...   \n",
            "3                                        happy bday!   \n",
            "4             http://twitpic.com/4w75p - I like it!!   \n",
            "\n",
            "                                   preprocessed_text  \n",
            "0               last session day httptwitpiccom67ezh  \n",
            "1  shanghai also really exciting precisely skyscr...  \n",
            "2  recession hit veronique branquinho quit compan...  \n",
            "3                                         happy bday  \n",
            "4                           httptwitpiccom4w75p like  \n"
          ]
        }
      ],
      "source": [
        "import pandas as pd\n",
        "import nltk\n",
        "from nltk.corpus import stopwords\n",
        "from nltk.tokenize import word_tokenize\n",
        "from nltk.stem import WordNetLemmatizer\n",
        "import string\n",
        "\n",
        "# Download NLTK resources\n",
        "nltk.download('punkt')\n",
        "nltk.download('stopwords')\n",
        "nltk.download('wordnet')\n",
        "\n",
        "# Load dataset with specified encoding\n",
        "data = pd.read_csv('/content/test.csv', encoding='latin1')  # Replace 'test.csv' with your dataset file path\n",
        "\n",
        "# Data Cleaning\n",
        "# Remove any rows with missing values\n",
        "data.dropna(inplace=True)\n",
        "\n",
        "# 1. Data Exploration\n",
        "print(\"Dataset size:\", data.shape)\n",
        "print(\"Column names:\", data.columns)\n",
        "print(\"Sample data:\")\n",
        "print(data.head())\n",
        "\n",
        "# 2. Data Preprocessing\n",
        "# Text preprocessing functions\n",
        "def preprocess_text(text):\n",
        "    # Convert text to lowercase\n",
        "    text = text.lower()\n",
        "    # Remove punctuation\n",
        "    text = text.translate(str.maketrans('', '', string.punctuation))\n",
        "    # Tokenization\n",
        "    tokens = word_tokenize(text)\n",
        "    # Remove stopwords\n",
        "    stop_words = set(stopwords.words('english'))\n",
        "    filtered_tokens = [word for word in tokens if word not in stop_words]\n",
        "    # Lemmatization\n",
        "    lemmatizer = WordNetLemmatizer()\n",
        "    lemmatized_tokens = [lemmatizer.lemmatize(word) for word in filtered_tokens]\n",
        "    # Join tokens back into text\n",
        "    preprocessed_text = ' '.join(lemmatized_tokens)\n",
        "    return preprocessed_text\n",
        "\n",
        "# Apply text preprocessing to the 'text' column\n",
        "data['preprocessed_text'] = data['text'].apply(preprocess_text)\n",
        "\n",
        "# Display preprocessed data\n",
        "print(\"\\nPreprocessed data:\")\n",
        "print(data[['text', 'preprocessed_text']].head())\n"
      ]
    },
    {
      "cell_type": "markdown",
      "source": [
        "## Data Preprocessing:"
      ],
      "metadata": {
        "id": "YS65qQtFxvB-"
      }
    },
    {
      "cell_type": "code",
      "source": [
        "import nltk\n",
        "from nltk.corpus import stopwords\n",
        "from nltk.tokenize import word_tokenize\n",
        "from nltk.stem import WordNetLemmatizer\n",
        "import string\n",
        "\n",
        "# Download NLTK resources\n",
        "nltk.download('punkt')\n",
        "nltk.download('stopwords')\n",
        "nltk.download('wordnet')\n",
        "\n",
        "# Sample text for demonstration\n",
        "sample_text = \"This is a sample text for demonstration purposes. It includes punctuation, stopwords, and special characters like @, #, $.\"\n",
        "\n",
        "# Text preprocessing function\n",
        "def preprocess_text(text):\n",
        "    # Convert text to lowercase\n",
        "    text = text.lower()\n",
        "    # Remove punctuation\n",
        "    text = text.translate(str.maketrans('', '', string.punctuation))\n",
        "    # Tokenization\n",
        "    tokens = word_tokenize(text)\n",
        "    # Remove stopwords\n",
        "    stop_words = set(stopwords.words('english'))\n",
        "    filtered_tokens = [word for word in tokens if word not in stop_words]\n",
        "    # Lemmatization\n",
        "    lemmatizer = WordNetLemmatizer()\n",
        "    lemmatized_tokens = [lemmatizer.lemmatize(word) for word in filtered_tokens]\n",
        "    # Join tokens back into text\n",
        "    preprocessed_text = ' '.join(lemmatized_tokens)\n",
        "    return preprocessed_text\n",
        "\n",
        "# Apply text preprocessing to the sample text\n",
        "preprocessed_sample_text = preprocess_text(sample_text)\n",
        "\n",
        "# Display preprocessed text\n",
        "print(\"Original Text:\")\n",
        "print(sample_text)\n",
        "print(\"\\nPreprocessed Text:\")\n",
        "print(preprocessed_sample_text)\n"
      ],
      "metadata": {
        "colab": {
          "base_uri": "https://localhost:8080/"
        },
        "id": "1hBluk1JxOhu",
        "outputId": "5b3ac28b-2d4f-4423-f455-95025e9cc563"
      },
      "execution_count": null,
      "outputs": [
        {
          "output_type": "stream",
          "name": "stdout",
          "text": [
            "Original Text:\n",
            "This is a sample text for demonstration purposes. It includes punctuation, stopwords, and special characters like @, #, $.\n",
            "\n",
            "Preprocessed Text:\n",
            "sample text demonstration purpose includes punctuation stopwords special character like\n"
          ]
        },
        {
          "output_type": "stream",
          "name": "stderr",
          "text": [
            "[nltk_data] Downloading package punkt to /root/nltk_data...\n",
            "[nltk_data]   Package punkt is already up-to-date!\n",
            "[nltk_data] Downloading package stopwords to /root/nltk_data...\n",
            "[nltk_data]   Package stopwords is already up-to-date!\n",
            "[nltk_data] Downloading package wordnet to /root/nltk_data...\n",
            "[nltk_data]   Package wordnet is already up-to-date!\n"
          ]
        }
      ]
    },
    {
      "cell_type": "markdown",
      "source": [
        "## Exploratory Data Analysis (EDA):"
      ],
      "metadata": {
        "id": "l5vrCWxbxn3Q"
      }
    },
    {
      "cell_type": "code",
      "source": [
        "import pandas as pd\n",
        "import matplotlib.pyplot as plt\n",
        "import seaborn as sns\n",
        "\n",
        "# Load dataset with specified encoding\n",
        "data = pd.read_csv('/content/test.csv', encoding='latin1')  # Update the file path and encoding if necessary\n",
        "\n",
        "# 1. Exploratory Data Analysis (EDA)\n",
        "# Get counts of each sentiment label\n",
        "sentiment_counts = data['sentiment'].value_counts()\n",
        "\n",
        "# 2. Visualize the distribution\n",
        "# Plotting histogram\n",
        "plt.figure(figsize=(8, 6))\n",
        "sns.barplot(x=sentiment_counts.index, y=sentiment_counts.values)\n",
        "plt.title('Distribution of Sentiment Labels')\n",
        "plt.xlabel('Sentiment')\n",
        "plt.ylabel('Count')\n",
        "plt.show()\n",
        "\n",
        "# Plotting pie chart\n",
        "plt.figure(figsize=(8, 6))\n",
        "plt.pie(sentiment_counts, labels=sentiment_counts.index, autopct='%1.1f%%', startangle=140)\n",
        "plt.title('Distribution of Sentiment Labels')\n",
        "plt.show()\n",
        "\n"
      ],
      "metadata": {
        "colab": {
          "base_uri": "https://localhost:8080/",
          "height": 1000
        },
        "id": "EkwczaJGyTiS",
        "outputId": "e294f844-79b4-497d-cfdb-5abf0ffa6cfa"
      },
      "execution_count": null,
      "outputs": [
        {
          "output_type": "display_data",
          "data": {
            "text/plain": [
              "<Figure size 800x600 with 1 Axes>"
            ],
            "image/png": "[encoded data removed]"
          },
          "metadata": {}
        },
        {
          "output_type": "display_data",
          "data": {
            "text/plain": [
              "<Figure size 800x600 with 1 Axes>"
            ],
            "image/png": "[encoded data removed]"
          },
          "metadata": {}
        }
      ]
    },
    {
      "cell_type": "markdown",
      "source": [
        "## Text Vectorization"
      ],
      "metadata": {
        "id": "PPyPSNNwy5pB"
      }
    },
    {
      "cell_type": "markdown",
      "source": [
        "**Using  TF-IDF (Term Frequency-Inverse Document Frequency):**"
      ],
      "metadata": {
        "id": "88m8ccPWy_ow"
      }
    },
    {
      "cell_type": "code",
      "source": [
        "\n",
        "data['preprocessed_text'] = data['text'].apply(preprocess_text)\n"
      ],
      "metadata": {
        "id": "lHyZGwZMzLPG"
      },
      "execution_count": null,
      "outputs": []
    },
    {
      "cell_type": "code",
      "source": [
        "# Text preprocessing\n",
        "def preprocess_text(text):\n",
        "    # Tokenization\n",
        "    tokens = word_tokenize(text)\n",
        "    # Lowercasing\n",
        "    tokens = [token.lower() for token in tokens]\n",
        "    # Remove punctuation and special characters\n",
        "    tokens = [token for token in tokens if token not in string.punctuation and not token.isdigit()]\n",
        "    # Remove stopwords\n",
        "    stop_words = set(stopwords.words('english'))\n",
        "    tokens = [token for token in tokens if token not in stop_words]\n",
        "    # Lemmatization\n",
        "    lemmatizer = WordNetLemmatizer()\n",
        "    tokens = [lemmatizer.lemmatize(token) for token in tokens]\n",
        "    # Join tokens into a string\n",
        "    preprocessed_text = ' '.join(tokens)\n",
        "    return preprocessed_text\n"
      ],
      "metadata": {
        "id": "-UQLcNKX0FXr"
      },
      "execution_count": null,
      "outputs": []
    },
    {
      "cell_type": "code",
      "source": [
        "# Initialize TF-IDF vectorizer\n",
        "tfidf_vectorizer = TfidfVectorizer()\n",
        "\n",
        "# Fit and transform the preprocessed text data\n",
        "tfidf_vectors = tfidf_vectorizer.fit_transform(data['text'])\n",
        "\n",
        "# Print the shape of TF-IDF vectors\n",
        "print(\"Shape of TF-IDF vectors:\", tfidf_vectors.shape)\n"
      ],
      "metadata": {
        "colab": {
          "base_uri": "https://localhost:8080/"
        },
        "id": "Kol34lpm0ViV",
        "outputId": "c8c9f9aa-8a4a-44c0-ebce-a2564afa001e"
      },
      "execution_count": null,
      "outputs": [
        {
          "output_type": "stream",
          "name": "stdout",
          "text": [
            "Shape of TF-IDF vectors: (3, 22)\n"
          ]
        }
      ]
    },
    {
      "cell_type": "markdown",
      "source": [
        "Using Word Embeddings (e.g., Word2Vec, GloVe):"
      ],
      "metadata": {
        "id": "gaD-CPXK0hRj"
      }
    },
    {
      "cell_type": "code",
      "source": [
        "# Text preprocessing\n",
        "def preprocess_text(text):\n",
        "    # Tokenization\n",
        "    tokens = word_tokenize(text)\n",
        "    # Lowercasing\n",
        "    tokens = [token.lower() for token in tokens]\n",
        "    # Remove punctuation and special characters\n",
        "    tokens = [token for token in tokens if token not in string.punctuation and not token.isdigit()]\n",
        "    # Remove stopwords\n",
        "    stop_words = set(stopwords.words('english'))\n",
        "    tokens = [token for token in tokens if token not in stop_words]\n",
        "    # Lemmatization\n",
        "    lemmatizer = WordNetLemmatizer()\n",
        "    tokens = [lemmatizer.lemmatize(token) for token in tokens]\n",
        "    # Join tokens into a string\n",
        "    preprocessed_text = ' '.join(tokens)\n",
        "    return preprocessed_text\n"
      ],
      "metadata": {
        "id": "55g5hlb60jA_"
      },
      "execution_count": null,
      "outputs": []
    },
    {
      "cell_type": "code",
      "source": [
        "# Apply text preprocessing\n",
        "data['preprocessed_text'] = data['text'].apply(preprocess_text)\n"
      ],
      "metadata": {
        "id": "ppmIftoi0z7c"
      },
      "execution_count": null,
      "outputs": []
    },
    {
      "cell_type": "markdown",
      "source": [
        "## Model Selection:"
      ],
      "metadata": {
        "id": "Ffy_jNGT1KO2"
      }
    },
    {
      "cell_type": "code",
      "source": [
        "import pandas as pd\n",
        "\n",
        "# Try reading the CSV file with different encodings\n",
        "encodings = ['utf-8', 'latin1', 'ISO-8859-1', 'utf-16']\n",
        "for encoding in encodings:\n",
        "    try:\n",
        "        data = pd.read_csv('/content/test.csv', encoding=encoding)\n",
        "        print(\"Successfully read the CSV file with encoding:\", encoding)\n",
        "        print(\"Column names:\", data.columns)\n",
        "        break\n",
        "    except UnicodeDecodeError:\n",
        "        print(\"Failed to read the CSV file with encoding:\", encoding)\n",
        "\n",
        "# If none of the encodings work, you may need to manually inspect the file's encoding\n"
      ],
      "metadata": {
        "colab": {
          "base_uri": "https://localhost:8080/"
        },
        "id": "wP3kRlNR6_Fs",
        "outputId": "d3fd6788-9704-4bf5-ebed-03b02293703e"
      },
      "execution_count": 5,
      "outputs": [
        {
          "output_type": "stream",
          "name": "stdout",
          "text": [
            "Failed to read the CSV file with encoding: utf-8\n",
            "Successfully read the CSV file with encoding: latin1\n",
            "Column names: Index(['textID', 'text', 'sentiment', 'Time of Tweet', 'Age of User',\n",
            "       'Country', 'Population -2020', 'Land Area (Km²)', 'Density (P/Km²)'],\n",
            "      dtype='object')\n"
          ]
        }
      ]
    },
    {
      "cell_type": "code",
      "source": [
        "import pandas as pd\n",
        "from sklearn.model_selection import train_test_split\n",
        "from sklearn.preprocessing import LabelEncoder\n",
        "from sklearn.feature_extraction.text import TfidfVectorizer\n",
        "from sklearn.naive_bayes import MultinomialNB\n",
        "from sklearn.svm import SVC\n",
        "from sklearn.metrics import accuracy_score, precision_score, recall_score, f1_score\n",
        "from keras.preprocessing.text import Tokenizer\n",
        "from keras.preprocessing.sequence import pad_sequences\n",
        "from keras.models import Sequential\n",
        "from keras.layers import Embedding, LSTM, Dense\n",
        "\n",
        "# Load data\n",
        "data = pd.read_csv('/content/test.csv', encoding='latin1')  # Assuming 'latin1' encoding works\n",
        "\n",
        "# Handle missing values\n",
        "data.fillna('', inplace=True)\n",
        "\n",
        "# Prepare data\n",
        "X = data['text']\n",
        "y = data['sentiment']\n",
        "\n",
        "# Convert target variable to numeric values\n",
        "label_encoder = LabelEncoder()\n",
        "y = label_encoder.fit_transform(y)\n",
        "\n",
        "# Split data into train and test sets\n",
        "X_train, X_test, y_train, y_test = train_test_split(X, y, test_size=0.2, random_state=42)\n",
        "\n",
        "# TF-IDF Vectorization\n",
        "tfidf_vectorizer = TfidfVectorizer()\n",
        "X_train_tfidf = tfidf_vectorizer.fit_transform(X_train)\n",
        "X_test_tfidf = tfidf_vectorizer.transform(X_test)\n",
        "\n",
        "# Naive Bayes\n",
        "nb_model = MultinomialNB()\n",
        "nb_model.fit(X_train_tfidf, y_train)\n",
        "nb_pred = nb_model.predict(X_test_tfidf)\n",
        "\n",
        "# Support Vector Machines\n",
        "svm_model = SVC(kernel='linear')\n",
        "svm_model.fit(X_train_tfidf, y_train)\n",
        "svm_pred = svm_model.predict(X_test_tfidf)\n",
        "\n",
        "# LSTM Model\n",
        "tokenizer = Tokenizer()\n",
        "tokenizer.fit_on_texts(X_train)\n",
        "X_train_seq = tokenizer.texts_to_sequences(X_train)\n",
        "X_test_seq = tokenizer.texts_to_sequences(X_test)\n",
        "vocab_size = len(tokenizer.word_index) + 1\n",
        "max_len = max(len(seq) for seq in X_train_seq)\n",
        "\n",
        "X_train_pad = pad_sequences(X_train_seq, maxlen=max_len, padding='post')\n",
        "X_test_pad = pad_sequences(X_test_seq, maxlen=max_len, padding='post')\n",
        "\n",
        "lstm_model = Sequential()\n",
        "lstm_model.add(Embedding(input_dim=vocab_size, output_dim=100, input_length=max_len))\n",
        "lstm_model.add(LSTM(100))\n",
        "lstm_model.add(Dense(1, activation='sigmoid'))\n",
        "lstm_model.compile(loss='binary_crossentropy', optimizer='adam', metrics=['accuracy'])\n",
        "lstm_model.fit(X_train_pad, y_train, epochs=5, batch_size=64, validation_data=(X_test_pad, y_test))\n",
        "\n",
        "# Evaluate models\n",
        "def evaluate_model(y_true, y_pred):\n",
        "    accuracy = accuracy_score(y_true, y_pred)\n",
        "    precision = precision_score(y_true, y_pred, average='weighted')\n",
        "    recall = recall_score(y_true, y_pred, average='weighted')\n",
        "    f1 = f1_score(y_true, y_pred, average='weighted')\n",
        "    return accuracy, precision, recall, f1\n",
        "\n",
        "nb_accuracy, nb_precision, nb_recall, nb_f1 = evaluate_model(y_test, nb_pred)\n",
        "svm_accuracy, svm_precision, svm_recall, svm_f1 = evaluate_model(y_test, svm_pred)\n",
        "\n",
        "# Evaluate LSTM model\n",
        "lstm_loss, lstm_accuracy = lstm_model.evaluate(X_test_pad, y_test)\n",
        "\n",
        "print(\"Naive Bayes:\")\n",
        "print(\"Accuracy:\", nb_accuracy)\n",
        "print(\"Precision:\", nb_precision)\n",
        "print(\"Recall:\", nb_recall)\n",
        "print(\"F1 Score:\", nb_f1)\n",
        "\n",
        "print(\"\\nSupport Vector Machines:\")\n",
        "print(\"Accuracy:\", svm_accuracy)\n",
        "print(\"Precision:\", svm_precision)\n",
        "print(\"Recall:\", svm_recall)\n",
        "print(\"F1 Score:\", svm_f1)\n",
        "\n",
        "print(\"\\nLSTM:\")\n",
        "print(\"Loss:\", lstm_loss)\n",
        "print(\"Accuracy:\", lstm_accuracy)\n"
      ],
      "metadata": {
        "colab": {
          "base_uri": "https://localhost:8080/"
        },
        "id": "BfziP0Qc609x",
        "outputId": "cd8cab37-6189-4cdd-df8b-d119fa5ed2e0"
      },
      "execution_count": 8,
      "outputs": [
        {
          "output_type": "stream",
          "name": "stdout",
          "text": [
            "Epoch 1/5\n",
            "61/61 [==============================] - 9s 83ms/step - loss: -4.6381 - accuracy: 0.2033 - val_loss: -7.5498 - val_accuracy: 0.2347\n",
            "Epoch 2/5\n",
            "61/61 [==============================] - 6s 99ms/step - loss: -10.1160 - accuracy: 0.2012 - val_loss: -10.6105 - val_accuracy: 0.2347\n",
            "Epoch 3/5\n",
            "61/61 [==============================] - 5s 75ms/step - loss: -13.3031 - accuracy: 0.2012 - val_loss: -13.3795 - val_accuracy: 0.2347\n",
            "Epoch 4/5\n",
            "61/61 [==============================] - 6s 99ms/step - loss: -16.3504 - accuracy: 0.2012 - val_loss: -16.0869 - val_accuracy: 0.2347\n",
            "Epoch 5/5\n",
            "61/61 [==============================] - 5s 76ms/step - loss: -19.3606 - accuracy: 0.2012 - val_loss: -18.7924 - val_accuracy: 0.2347\n",
            "31/31 [==============================] - 0s 13ms/step - loss: -18.7924 - accuracy: 0.2347\n",
            "Naive Bayes:\n",
            "Accuracy: 0.39667705088265837\n",
            "Precision: 0.45738498375162784\n",
            "Recall: 0.39667705088265837\n",
            "F1 Score: 0.3307113780673286\n",
            "\n",
            "Support Vector Machines:\n",
            "Accuracy: 0.7206645898234684\n",
            "Precision: 0.7367396631713906\n",
            "Recall: 0.7206645898234684\n",
            "F1 Score: 0.7168826804718824\n",
            "\n",
            "LSTM:\n",
            "Loss: -18.792377471923828\n",
            "Accuracy: 0.23468327522277832\n"
          ]
        }
      ]
    },
    {
      "cell_type": "markdown",
      "source": [
        "##Hyperparameter Tuning:\n",
        ""
      ],
      "metadata": {
        "id": "o-aF9irk8SNc"
      }
    },
    {
      "cell_type": "code",
      "source": [
        "import pandas as pd\n",
        "from sklearn.feature_extraction.text import CountVectorizer\n",
        "from sklearn.pipeline import Pipeline\n",
        "\n",
        "# Read data from CSV with explicit encoding specification\n",
        "data = pd.read_csv('/content/test.csv', encoding='latin1')\n",
        "\n",
        "# Handle missing values if any\n",
        "data.fillna(\"\", inplace=True)\n",
        "\n",
        "# Check if 'label' column exists in the dataset\n",
        "if 'label' not in data.columns:\n",
        "    print(\"Column 'label' not found in the dataset. Proceeding with analysis without supervised learning.\")\n",
        "    X = data['text']\n",
        "else:\n",
        "    X = data['text']\n",
        "    y = data['label']\n",
        "\n",
        "    # Perform supervised learning analysis\n",
        "    print(\"Performing supervised learning analysis.\")\n",
        "\n",
        "    # Split the data into training and testing sets\n",
        "    # Your code for splitting the data, modeling, and evaluation goes here\n",
        "\n",
        "# Your analysis code goes here\n"
      ],
      "metadata": {
        "colab": {
          "base_uri": "https://localhost:8080/"
        },
        "id": "I90uYbk5IbYO",
        "outputId": "4228e13d-302a-4b93-ebe8-b482d4310870"
      },
      "execution_count": 41,
      "outputs": [
        {
          "output_type": "stream",
          "name": "stdout",
          "text": [
            "Column 'label' not found in the dataset. Proceeding with analysis without supervised learning.\n"
          ]
        }
      ]
    },
    {
      "cell_type": "code",
      "source": [
        "from sklearn.feature_extraction.text import TfidfVectorizer\n",
        "from sklearn.cluster import KMeans\n",
        "import matplotlib.pyplot as plt\n",
        "\n",
        "# Vectorize the text data using TF-IDF\n",
        "vectorizer = TfidfVectorizer()\n",
        "X_vectorized = vectorizer.fit_transform(X)\n",
        "\n",
        "# Define the number of clusters\n",
        "num_clusters = 5  # You can adjust this number based on your dataset and requirements\n",
        "\n",
        "# Apply KMeans clustering\n",
        "kmeans = KMeans(n_clusters=num_clusters, random_state=42)\n",
        "cluster_labels = kmeans.fit_predict(X_vectorized)\n",
        "\n",
        "# Convert sparse matrix to dense array\n",
        "X_dense = X_vectorized.toarray()\n",
        "\n",
        "# Visualize the clusters\n",
        "plt.figure(figsize=(8, 6))\n",
        "for cluster in range(num_clusters):\n",
        "    plt.scatter(X_dense[cluster_labels == cluster, 0],\n",
        "                X_dense[cluster_labels == cluster, 1],\n",
        "                label=f'Cluster {cluster}', alpha=0.5)\n",
        "plt.xlabel('Feature 1')\n",
        "plt.ylabel('Feature 2')\n",
        "plt.title('KMeans Clustering')\n",
        "plt.legend()\n",
        "plt.show()\n",
        "\n",
        "# Print cluster centers\n",
        "print(\"Cluster Centers:\")\n",
        "print(kmeans.cluster_centers_)\n"
      ],
      "metadata": {
        "colab": {
          "base_uri": "https://localhost:8080/",
          "height": 668
        },
        "id": "N781wohB8RCr",
        "outputId": "5fdb3898-1d86-4d93-c0e8-b027293f04b5"
      },
      "execution_count": 47,
      "outputs": [
        {
          "output_type": "display_data",
          "data": {
            "text/plain": [
              "<Figure size 800x600 with 1 Axes>"
            ],
            "image/png": "[encoded data removed]"
          },
          "metadata": {}
        },
        {
          "output_type": "stream",
          "name": "stdout",
          "text": [
            "Cluster Centers:\n",
            "[[0.00013878 0.00031424 0.         ... 0.         0.         0.        ]\n",
            " [0.00094869 0.         0.         ... 0.         0.         0.        ]\n",
            " [0.         0.         0.00097102 ... 0.         0.         0.        ]\n",
            " [0.00045541 0.         0.         ... 0.         0.         0.        ]\n",
            " [0.00025183 0.         0.         ... 0.00025461 0.0002827  0.0002827 ]]\n"
          ]
        }
      ]
    },
    {
      "cell_type": "markdown",
      "source": [
        "#Cross-Validation:\n"
      ],
      "metadata": {
        "id": "TOKYoc_mJObO"
      }
    },
    {
      "cell_type": "code",
      "source": [
        "import pandas as pd\n",
        "\n",
        "# Read data from CSV\n",
        "data = pd.read_csv('/content/test.csv', encoding='latin1')\n",
        "\n",
        "# Print available columns\n",
        "print(\"Available columns in the DataFrame:\")\n",
        "print(data.columns)\n"
      ],
      "metadata": {
        "colab": {
          "base_uri": "https://localhost:8080/"
        },
        "id": "xxv751ZHL4lu",
        "outputId": "ab80a5fd-25be-429c-ba1f-f75c22fd31eb"
      },
      "execution_count": 56,
      "outputs": [
        {
          "output_type": "stream",
          "name": "stdout",
          "text": [
            "Available columns in the DataFrame:\n",
            "Index(['textID', 'text', 'sentiment', 'Time of Tweet', 'Age of User',\n",
            "       'Country', 'Population -2020', 'Land Area (Km²)', 'Density (P/Km²)'],\n",
            "      dtype='object')\n"
          ]
        }
      ]
    },
    {
      "cell_type": "code",
      "source": [
        "import pandas as pd\n",
        "from sklearn.feature_extraction.text import TfidfVectorizer\n",
        "from sklearn.ensemble import RandomForestClassifier\n",
        "from sklearn.model_selection import cross_val_score\n",
        "\n",
        "# Read data from CSV\n",
        "data = pd.read_csv('/content/test.csv', encoding='latin1')\n",
        "\n",
        "# Handle missing values if any\n",
        "data.fillna(\"\", inplace=True)\n",
        "\n",
        "# Replace 'sentiment' with the correct name of the target variable column\n",
        "target_column = 'sentiment'\n",
        "\n",
        "# Assuming your CSV contains two columns: 'text' and the target variable\n",
        "X = data['text']\n",
        "y = data[target_column]\n",
        "\n",
        "# Vectorize the text data using TF-IDF\n",
        "vectorizer = TfidfVectorizer()\n",
        "X_vectorized = vectorizer.fit_transform(X)\n",
        "\n",
        "# Initialize RandomForestClassifier\n",
        "rf_classifier = RandomForestClassifier(random_state=42)\n",
        "\n",
        "# Perform cross-validation\n",
        "cv_scores = cross_val_score(rf_classifier, X_vectorized, y, cv=5)\n",
        "\n",
        "# Print cross-validation scores\n",
        "print(\"Cross-validation scores:\", cv_scores)\n",
        "\n",
        "# Calculate and print mean cross-validation score\n",
        "print(\"Mean cross-validation score:\", cv_scores.mean())\n"
      ],
      "metadata": {
        "colab": {
          "base_uri": "https://localhost:8080/"
        },
        "id": "8Nuol_RPJOH8",
        "outputId": "c9c052b8-801e-4c38-860f-739e5cf0c05a"
      },
      "execution_count": 57,
      "outputs": [
        {
          "output_type": "stream",
          "name": "stdout",
          "text": [
            "Cross-validation scores: [0.66978193 0.62097612 0.65212876 0.65628245 0.6635514 ]\n",
            "Mean cross-validation score: 0.6525441329179646\n"
          ]
        }
      ]
    },
    {
      "cell_type": "markdown",
      "source": [
        "# Model Interpretability:\n"
      ],
      "metadata": {
        "id": "JTHmyvYsMPUt"
      }
    },
    {
      "cell_type": "code",
      "source": [
        "import pandas as pd\n",
        "from sklearn.feature_extraction.text import TfidfVectorizer\n",
        "from sklearn.ensemble import RandomForestClassifier\n",
        "from lime.lime_text import LimeTextExplainer\n",
        "import re\n",
        "import matplotlib.pyplot as plt\n",
        "\n",
        "# Read data from CSV\n",
        "data = pd.read_csv('/content/test.csv', encoding='latin1')\n",
        "\n",
        "# Handle missing values if any\n",
        "data.fillna(\"\", inplace=True)\n",
        "\n",
        "# Assuming your CSV contains two columns: 'text' and 'sentiment'\n",
        "X = data['text']\n",
        "y = data['sentiment']\n",
        "\n",
        "# Vectorize the text data using TF-IDF\n",
        "vectorizer = TfidfVectorizer()\n",
        "X_vectorized = vectorizer.fit_transform(X)\n",
        "\n",
        "# Initialize RandomForestClassifier\n",
        "rf_classifier = RandomForestClassifier(random_state=42)\n",
        "rf_classifier.fit(X_vectorized, y)\n",
        "\n",
        "# Feature Importance\n",
        "feature_names = vectorizer.get_feature_names_out()\n",
        "feature_importance = rf_classifier.feature_importances_\n",
        "sorted_indices = feature_importance.argsort()[::-1]\n",
        "top_words = [feature_names[idx] for idx in sorted_indices[:10]]\n",
        "top_scores = feature_importance[sorted_indices][:10]\n",
        "\n",
        "# Plot top words by feature importance\n",
        "plt.figure(figsize=(10, 6))\n",
        "plt.barh(top_words, top_scores)\n",
        "plt.xlabel('Feature Importance')\n",
        "plt.ylabel('Words')\n",
        "plt.title('Top Words by Feature Importance')\n",
        "plt.gca().invert_yaxis()\n",
        "plt.show()\n",
        "\n",
        "# LIME\n",
        "explainer = LimeTextExplainer()\n",
        "\n",
        "def preprocess_text(text):\n",
        "    # Remove non-numeric characters and special characters\n",
        "    text = re.sub(r'[^a-zA-Z0-9\\s]', '', text)\n",
        "    return text\n",
        "\n",
        "idx = 0  # Example index for explanation\n",
        "preprocessed_text = preprocess_text(X[idx])\n",
        "\n"
      ],
      "metadata": {
        "colab": {
          "base_uri": "https://localhost:8080/",
          "height": 564
        },
        "id": "VkVaCcrSMXY8",
        "outputId": "3a65c1bf-de46-4c0d-f925-0ccd0c046257"
      },
      "execution_count": 70,
      "outputs": [
        {
          "output_type": "display_data",
          "data": {
            "text/plain": [
              "<Figure size 1000x600 with 1 Axes>"
            ],
            "image/png": "[encoded data removed]"
          },
          "metadata": {}
        }
      ]
    },
    {
      "cell_type": "markdown",
      "source": [
        "## Evaluation Metrics:"
      ],
      "metadata": {
        "id": "OztdYy7fPPPO"
      }
    },
    {
      "cell_type": "code",
      "source": [
        "from sklearn.metrics import precision_recall_curve, average_precision_score\n",
        "\n",
        "# Compute precision-recall curve and area for each class\n",
        "precision = dict()\n",
        "recall = dict()\n",
        "average_precision = dict()\n",
        "\n",
        "# Assuming y_pred_proba contains the predicted probabilities for each class\n",
        "y_pred_proba = rf_classifier.predict_proba(X_test)\n",
        "\n",
        "# Obtain the number of classes\n",
        "n_classes = len(set(y_test))\n",
        "\n",
        "for i in range(n_classes):\n",
        "    try:\n",
        "        precision[i], recall[i], _ = precision_recall_curve(y_test == i, y_pred_proba[:, i])\n",
        "        average_precision[i] = average_precision_score(y_test == i, y_pred_proba[:, i])\n",
        "    except ValueError:\n",
        "        precision[i] = [0]\n",
        "        recall[i] = [0]\n",
        "        average_precision[i] = 0\n",
        "\n",
        "# Compute macro-averaged precision\n",
        "macro_precision = sum(average_precision.values()) / n_classes\n",
        "\n",
        "# Plot precision-recall curves for each class\n",
        "plt.figure(figsize=(8, 6))\n",
        "for i in range(n_classes):\n",
        "    plt.plot(recall[i], precision[i], label=f'Class {i} (AP = {average_precision[i]:.2f})')\n",
        "\n",
        "plt.xlabel('Recall')\n",
        "plt.ylabel('Precision')\n",
        "plt.title('Precision-Recall Curve for Each Class')\n",
        "plt.legend()\n",
        "plt.grid(True)\n",
        "plt.show()\n",
        "\n",
        "# Print macro-averaged precision\n",
        "print(f\"Macro-averaged Precision: {macro_precision:.2f}\")\n"
      ],
      "metadata": {
        "colab": {
          "base_uri": "https://localhost:8080/",
          "height": 879
        },
        "id": "AcxC76-GOUx4",
        "outputId": "d2d5fd1c-6c5f-4731-9e38-ca51da63d3c0"
      },
      "execution_count": 75,
      "outputs": [
        {
          "output_type": "stream",
          "name": "stderr",
          "text": [
            "/usr/local/lib/python3.10/dist-packages/sklearn/metrics/_ranking.py:891: UserWarning: No positive class found in y_true, recall is set to one for all thresholds.\n",
            "  warnings.warn(\n",
            "/usr/local/lib/python3.10/dist-packages/sklearn/metrics/_ranking.py:891: UserWarning: No positive class found in y_true, recall is set to one for all thresholds.\n",
            "  warnings.warn(\n",
            "/usr/local/lib/python3.10/dist-packages/sklearn/metrics/_ranking.py:891: UserWarning: No positive class found in y_true, recall is set to one for all thresholds.\n",
            "  warnings.warn(\n",
            "/usr/local/lib/python3.10/dist-packages/sklearn/metrics/_ranking.py:891: UserWarning: No positive class found in y_true, recall is set to one for all thresholds.\n",
            "  warnings.warn(\n",
            "/usr/local/lib/python3.10/dist-packages/sklearn/metrics/_ranking.py:891: UserWarning: No positive class found in y_true, recall is set to one for all thresholds.\n",
            "  warnings.warn(\n",
            "/usr/local/lib/python3.10/dist-packages/sklearn/metrics/_ranking.py:891: UserWarning: No positive class found in y_true, recall is set to one for all thresholds.\n",
            "  warnings.warn(\n",
            "/usr/local/lib/python3.10/dist-packages/sklearn/metrics/_ranking.py:891: UserWarning: No positive class found in y_true, recall is set to one for all thresholds.\n",
            "  warnings.warn(\n",
            "/usr/local/lib/python3.10/dist-packages/sklearn/metrics/_ranking.py:891: UserWarning: No positive class found in y_true, recall is set to one for all thresholds.\n",
            "  warnings.warn(\n"
          ]
        },
        {
          "output_type": "display_data",
          "data": {
            "text/plain": [
              "<Figure size 800x600 with 1 Axes>"
            ],
            "image/png": "[encoded data removed]"
          },
          "metadata": {}
        },
        {
          "output_type": "stream",
          "name": "stdout",
          "text": [
            "Macro-averaged Precision: 0.00\n"
          ]
        }
      ]
    },
    {
      "cell_type": "markdown",
      "source": [
        "## . Documentation:"
      ],
      "metadata": {
        "id": "_-g1NcoRPSDm"
      }
    },
    {
      "cell_type": "markdown",
      "source": [
        "1. Introduction\n",
        "Sentiment Analysis is a data science project aimed at analyzing and classifying textual data based on the sentiment expressed. The project focuses on building a predictive model capable of determining whether a given text conveys positive, negative, or neutral sentiment. This documentation provides a comprehensive overview of the project phases, including data exploration, preprocessing, model selection, hyperparameter tuning, cross-validation, model interpretability, evaluation metrics, and documentation.\n",
        "\n",
        "2. Project Objectives\n",
        "The main objectives of the Sentiment Analysis project are as follows:\n",
        "\n",
        "Data Exploration: Understand the dataset's structure, features, and size. Identify key variables such as text content and sentiment labels.\n",
        "\n",
        "Data Preprocessing: Perform text preprocessing tasks, including lowercasing, removing stop words, handling special characters, tokenization, and lemmatization.\n",
        "\n",
        "Exploratory Data Analysis (EDA): Conduct exploratory data analysis to gain insights into the distribution of sentiment labels. Visualize the distribution using histograms or pie charts.\n",
        "\n",
        "Text Vectorization: Convert preprocessed text into numerical vectors using techniques like TF-IDF or word embeddings.\n",
        "\n",
        "Model Selection: Explore and implement different machine learning models suitable for text classification. Evaluate model performance using metrics like accuracy, precision, recall, and F1 score.\n",
        "\n",
        "Hyperparameter Tuning: Fine-tune the hyperparameters of the selected model to optimize performance using techniques like grid search or random search.\n",
        "\n",
        "Cross-Validation: Implement cross-validation techniques to assess model generalization performance and prevent overfitting.\n",
        "\n",
        "Model Interpretability: Interpret model predictions by analyzing feature importance or using techniques like LIME to understand which words or features contribute most to sentiment predictions.\n",
        "\n",
        "Evaluation Metrics: Evaluate model performance using relevant evaluation metrics such as confusion matrix, precision-recall curves, and ROC-AUC.\n",
        "\n",
        "3. Project Phases\n",
        "The Sentiment Analysis project is divided into two main phases:\n",
        "\n",
        "Phase 1: Intern Project Phase - 1\n",
        "Data Exploration\n",
        "Data Preprocessing\n",
        "Exploratory Data Analysis (EDA)\n",
        "Phase 2: Intern Project Phase - 2\n",
        "Text Vectorization\n",
        "Model Selection\n",
        "Hyperparameter Tuning\n",
        "Cross-Validation\n",
        "Model Interpretability\n",
        "Evaluation Metrics\n",
        "Documentation\n",
        "\n",
        "\n",
        "\n",
        "\n",
        "\n",
        "Data Exploration & Preprocessing: Understand and clean the dataset, handling missing values, special characters, and text preprocessing tasks like lowercasing and tokenization.\n",
        "\n",
        "Model Development & Evaluation: Choose and train machine learning models for sentiment analysis, evaluate their performance using metrics like accuracy, precision, recall, and F1 score, and fine-tune hyperparameters to optimize performance.\n",
        "\n",
        "\n",
        "\n",
        "\n",
        "\n",
        "Data Exploration & Preprocessing:\n",
        "\n",
        "Exploration: Analyze the structure, features, and size of the dataset. Identify key variables such as text content and sentiment labels to understand the data better.\n",
        "Preprocessing: Clean the dataset by handling missing values, removing special characters, and performing text preprocessing tasks like lowercasing, removing stopwords, and lemmatization. These steps ensure that the text data is in a suitable format for analysis.\n",
        "Model Development & Evaluation:\n",
        "\n",
        "Model Selection: Explore and implement various machine learning models suitable for text classification, such as Naive Bayes, Support Vector Machines, or deep learning models like LSTM networks. Choose models based on their performance and suitability for the dataset.\n",
        "Evaluation: Train the selected models on the preprocessed data and evaluate their performance using metrics like accuracy, precision, recall, and F1 score. This step helps assess how well the models are performing in classifying sentiment in the text data.\n",
        "Hyperparameter Tuning:\n",
        "\n",
        "Fine-tuning: Optimize the performance of the selected model by fine-tuning its hyperparameters. Techniques like grid search or random search are employed to search through a range of hyperparameter values and find the combination that yields the best results.\n",
        "Cross-Validation:\n",
        "\n",
        "Assessing Generalization: Implement cross-validation techniques like k-fold cross-validation to assess how well the model generalizes to unseen data and to prevent overfitting. This step helps ensure that the model's performance is robust and reliable.\n",
        "Model Interpretability:\n",
        "\n",
        "Interpreting Predictions: Analyze the model's predictions to understand which words or features contribute most to sentiment predictions. Techniques like LIME (Local Interpretable Model-agnostic Explanations) can be used to explain individual predictions and gain insights into the model's decision-making process.\n",
        "Evaluation Metrics:\n",
        "\n",
        "Performance Evaluation: Evaluate the model's performance using relevant evaluation metrics for sentiment analysis, such as confusion matrix, precision-recall curves, and ROC-AUC. These metrics provide a comprehensive assessment of the model's classification performance and help identify areas for improvement."
      ],
      "metadata": {
        "id": "lXOBGYarQL-Z"
      }
    }
  ]
}